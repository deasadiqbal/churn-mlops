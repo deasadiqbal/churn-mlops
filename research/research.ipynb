{
 "cells": [
  {
   "cell_type": "markdown",
   "metadata": {},
   "source": [
    "## Data Ingestion"
   ]
  },
  {
   "cell_type": "code",
   "execution_count": 2,
   "metadata": {},
   "outputs": [],
   "source": [
    "import os\n",
    "os.chdir(r'E:\\MLOps\\Churn MLOps\\churn-mlops')"
   ]
  },
  {
   "cell_type": "code",
   "execution_count": 3,
   "metadata": {},
   "outputs": [
    {
     "data": {
      "text/plain": [
       "'E:\\\\MLOps\\\\Churn MLOps\\\\churn-mlops'"
      ]
     },
     "execution_count": 3,
     "metadata": {},
     "output_type": "execute_result"
    }
   ],
   "source": [
    "%pwd"
   ]
  },
  {
   "cell_type": "code",
   "execution_count": 16,
   "metadata": {},
   "outputs": [],
   "source": [
    "import pandas as pd\n",
    "import numpy as np\n",
    "import argparse\n",
    "from churn_mlops.utils.common import read_yaml\n",
    "from churn_mlops.constants import *\n",
    "\n",
    "def load_data(data_path : Path, model_var):\n",
    "    df = pd.read_csv(data_path)\n",
    "    df = df[model_var]\n",
    "    return df\n",
    "\n",
    "def load_raw_data(config_path):\n",
    "    config = read_yaml(config_path)\n",
    "    extrenal_data_path = config.data_config.external_data_path\n",
    "    raw_data_path = config.data_config.raw_data_path\n",
    "    model_var = config.data_config.model_var\n",
    "\n",
    "    df = load_data(extrenal_data_path, model_var)\n",
    "    df.to_csv(raw_data_path, index=False)\n",
    "\n",
    "if __name__ == \"__main__\":\n",
    "    load_raw_data(CONFIG_FILE_PATH)"
   ]
  },
  {
   "cell_type": "markdown",
   "metadata": {},
   "source": [
    "## Data Transformation"
   ]
  },
  {
   "cell_type": "code",
   "execution_count": 6,
   "metadata": {},
   "outputs": [
    {
     "name": "stdout",
     "output_type": "stream",
     "text": [
      "[2024-03-26 21:57:14,534: INFO: 3170729842: Data split is done and saved at data\\transformed_data\\churn_train_data.csv and data\\transformed_data\\churn_test_data.csv]\n"
     ]
    }
   ],
   "source": [
    "import pandas as pd\n",
    "import numpy as np\n",
    "from churn_mlops import logger\n",
    "from churn_mlops.constants import *\n",
    "from churn_mlops.utils.common import read_yaml\n",
    "from sklearn.model_selection import train_test_split\n",
    "\n",
    "#function to split data\n",
    "def split_data(df, train_data_path, test_data_path, split_ratio, random_state):\n",
    "    train, test = train_test_split(df, test_size=split_ratio, random_state=random_state)\n",
    "    train.to_csv(train_data_path, sep=\",\", index=False, encoding=\"utf-8\")\n",
    "    test.to_csv(test_data_path, sep=\",\", index=False, encoding=\"utf-8\")\n",
    "\n",
    "#function to save the split data\n",
    "def split_and_save(config_path):\n",
    "    config = read_yaml(config_path)\n",
    "\n",
    "    raw_data = config.data_config.raw_data_path\n",
    "    train_data_path = config.transformed_data_config.churn_train_data_path\n",
    "    test_data_path = config.transformed_data_config.churn_test_data_path\n",
    "\n",
    "    split_ratio = config.data_config.split_ratio\n",
    "    rnadom_state = config.data_config.random_state\n",
    "\n",
    "    df = pd.read_csv(raw_data)\n",
    "    split_data(df, train_data_path, test_data_path, split_ratio, rnadom_state)\n",
    "\n",
    "    logger.info(f\"Data split is done and saved at {train_data_path} and {test_data_path}\")\n",
    "\n",
    "if __name__ == \"__main__\":\n",
    "    split_and_save(CONFIG_FILE_PATH)"
   ]
  },
  {
   "cell_type": "markdown",
   "metadata": {},
   "source": [
    "## Train Model"
   ]
  },
  {
   "cell_type": "code",
   "execution_count": 7,
   "metadata": {},
   "outputs": [
    {
     "name": "stderr",
     "output_type": "stream",
     "text": [
      "e:\\MLOps\\Churn MLOps\\churnenv\\Lib\\site-packages\\sklearn\\base.py:1474: DataConversionWarning: A column-vector y was passed when a 1d array was expected. Please change the shape of y to (n_samples,), for example using ravel().\n",
      "  return fit_method(estimator, *args, **kwargs)\n"
     ]
    }
   ],
   "source": [
    "import joblib\n",
    "import mlflow\n",
    "import pandas as pd\n",
    "\n",
    "\n",
    "from churn_mlops import logger\n",
    "from churn_mlops.constants import *\n",
    "from churn_mlops.utils.common import read_yaml\n",
    "\n",
    "from sklearn.ensemble import RandomForestClassifier\n",
    "\n",
    "# function to load features and target\n",
    "def load_features_target(df, target):\n",
    "    x = df.drop(target, axis=1)\n",
    "    y = df[[target]]\n",
    "    return x,y\n",
    "\n",
    "# function to traine and evaluate the model\n",
    "def train_and_evaluate(config_path):\n",
    "    # read the config\n",
    "    config = read_yaml(config_path)\n",
    " \n",
    "    #data paths and target variable\n",
    "    train_data_path = config.transformed_data_config.churn_train_data_path\n",
    "    target = config.data_config.target\n",
    "\n",
    "    #model params\n",
    "    max_depth = config.random_forest.max_depth\n",
    "    n_estimators = config.random_forest.n_estimators\n",
    "\n",
    "    # read the train and test data\n",
    "    train_df = pd.read_csv(train_data_path)\n",
    "    x_train, y_train = load_features_target(train_df, target)\n",
    "   \n",
    "    model = RandomForestClassifier(max_depth=max_depth, n_estimators=n_estimators)\n",
    "    model.fit(x_train, y_train)\n",
    "\n",
    "    joblib.dump(model, config.model_dir)\n",
    "\n",
    "\n",
    "\n",
    "if __name__ == \"__main__\":\n",
    "    train_and_evaluate(CONFIG_FILE_PATH) \n",
    "        \n",
    "    "
   ]
  },
  {
   "cell_type": "markdown",
   "metadata": {},
   "source": [
    "## Model Training and Evaluation with MLflow"
   ]
  },
  {
   "cell_type": "code",
   "execution_count": null,
   "metadata": {},
   "outputs": [],
   "source": [
    "\n",
    "import joblib\n",
    "import mlflow\n",
    "import pandas as pd\n",
    "from urllib.parse import urlparse\n",
    "\n",
    "from churn_mlops import logger\n",
    "from churn_mlops.constants import *\n",
    "from churn_mlops.utils.common import read_yaml\n",
    "\n",
    "from sklearn.ensemble import RandomForestClassifier\n",
    "from sklearn.metrics import accuracy_score, f1_score,recall_score, precision_score, confusion_matrix, classification_report\n",
    "\n",
    "\n",
    "# function to evaluate the model\n",
    "def evaluation_metrics(y_test, pred, avg_method):\n",
    "    accuracy = accuracy_score(y_test, pred)\n",
    "    precision = precision_score(y_test, pred, average=avg_method)\n",
    "    recall = recall_score(y_test, pred, average=avg_method) \n",
    "    f1 = f1_score(y_test, pred, average=avg_method)\n",
    "    cm = confusion_matrix(y_test, pred) \n",
    "\n",
    "    target_names = ['0', '1']\n",
    "    classification_rep = classification_report(y_test, pred, target_names=target_names)\n",
    "\n",
    "    return accuracy, precision, recall, f1, cm, classification_rep\n",
    "\n",
    "# function to load features and target\n",
    "def load_features_target(df, target):\n",
    "    x = df.drop(target, axis=1)\n",
    "    y = df[[target]]\n",
    "    return x,y\n",
    "\n",
    "\n",
    "def train_and_evaluate(config_path):\n",
    "    # read the config and params\n",
    "    config = read_yaml(config_path)\n",
    "\n",
    "    #data paths and target variable\n",
    "    train_data_path = config.transformed_data_config.churn_train_data_path\n",
    "    test_data_path = config.transformed_data_config.churn_test_data_path\n",
    "    target = config.data_config.target\n",
    "\n",
    "    #model params\n",
    "    max_depth = config.random_forest.max_depth\n",
    "    n_estimators = config.random_forest.n_estimators\n",
    "\n",
    "    # read the train and test data\n",
    "    train_df = pd.read_csv(train_data_path)\n",
    "    x_train, y_train = load_features_target(train_df, target)\n",
    "\n",
    "    # read the test data\n",
    "    test_df = pd.read_csv(test_data_path)\n",
    "    x_test, y_test = load_features_target(test_df, target)\n",
    "\n",
    "    # random_forest_model = joblib.load(config.model_dir)\n",
    "    random_forest_model = RandomForestClassifier(max_depth=max_depth, n_estimators=n_estimators)\n",
    "    random_forest_model.fit(x_train, y_train)\n",
    "    \n",
    "\n",
    "    mlflow.set_tracking_uri(config.mlflow_config.mlflow_tracking_uri)\n",
    "    tracking_url_type_store = urlparse(mlflow.get_tracking_uri()).scheme\n",
    "\n",
    "    with mlflow.start_run():\n",
    "        pred = random_forest_model.predict(x_test)\n",
    "\n",
    "        accuracy, precision, recall, f1, cm, classification_rep = evaluation_metrics(y_test, pred, \"weighted\")\n",
    "    \n",
    "        mlflow.log_param(\"max_depth\",max_depth)\n",
    "        mlflow.log_param(\"n_estimators\", n_estimators)\n",
    "\n",
    "        mlflow.log_metric(\"accuracy\", accuracy)\n",
    "        mlflow.log_metric(\"precision\", precision)\n",
    "        mlflow.log_metric(\"recall\", recall)\n",
    "        mlflow.log_metric(\"f1_score\", f1)\n",
    "\n",
    "        if tracking_url_type_store != \"file\":\n",
    "                mlflow.sklearn.log_model(random_forest_model, \"model\", registered_model_name=\"RandomForestModel\")\n",
    "        else:\n",
    "            mlflow.sklearn.log_model(random_forest_model, \"model\")\n",
    "\n",
    "if __name__ == \"__main__\":\n",
    "    train_and_evaluate(CONFIG_FILE_PATH)"
   ]
  },
  {
   "cell_type": "code",
   "execution_count": null,
   "metadata": {},
   "outputs": [],
   "source": [
    "\n",
    "set MLFLOW_TRACKING_URI=tracking-uri\n",
    "\n",
    "set MLFLOW_TRACKING_USERNAME=user-name \n",
    "\n",
    "set MLFLOW_TRACKING_PASSWORD=your-password\n"
   ]
  },
  {
   "cell_type": "markdown",
   "metadata": {},
   "source": [
    "## Model Selection for Production"
   ]
  },
  {
   "cell_type": "code",
   "execution_count": null,
   "metadata": {},
   "outputs": [],
   "source": [
    "import joblib\n",
    "import mlflow\n",
    "from churn_mlops import logger\n",
    "from churn_mlops.constants import *\n",
    "from churn_mlops.utils.common import read_yaml\n",
    "from mlflow.tracking import MlflowClient\n",
    "from pprint import pprint\n",
    "\n",
    "# function to select the best model\n",
    "def production_model(config_path):\n",
    "    config = read_yaml(config_path)\n",
    "\n",
    "    mlflow_tracking_uri = config.mlflow_config.mlflow_tracking_uri\n",
    "    model_dir = config.model_dir\n",
    "    model_name = config.mlflow_config.registered_model_name\n",
    "\n",
    "    mlflow.set_tracking_uri(mlflow_tracking_uri)\n",
    "    runs = mlflow.search_runs(search_all_experiments=True)\n",
    "    max_accuracy = max(runs[\"metrics.accuracy\"])\n",
    "    # default_run_id = \"None\"  # Or any other default value\n",
    "    # max_accuracy_run_id = list(runs[runs[\"metrics.accuracy\"] == max_accuracy][\"run_id\"] or [default_run_id])[0]\n",
    "\n",
    "    max_accuracy_run_id = list(runs[runs[\"metrics.accuracy\"] == max_accuracy][\"run_id\"])[0]\n",
    "\n",
    "    client = MlflowClient()\n",
    "    for mv in client.search_model_versions(f\"name='{model_name}'\"):\n",
    "\n",
    "        if mv.run_id == max_accuracy_run_id:\n",
    "            model_version = mv.version\n",
    "            logged_model = mv.source\n",
    "            pprint(mv, indent=4)\n",
    "            client.transition_model_version_stage(\n",
    "                name=model_name,\n",
    "                version=model_version,\n",
    "                stage=\"Production\"\n",
    "            )\n",
    "            logger.info(f\"Model with name {model_name} and version {model_version} is set to Production stage\")\n",
    "        else:\n",
    "            model_version = mv.version\n",
    "            client.transition_model_version_stage(\n",
    "                name= model_name,\n",
    "                version=model_version,\n",
    "                stage=\"Staging\"\n",
    "            )\n",
    "            logger.info(f\"Model with name {model_name} and version {model_version} is set to Staging stage\")\n",
    "\n",
    "    loaded_model = mlflow.pyfunc.load_model(logged_model)\n",
    "    joblib.dump(loaded_model, model_dir)\n",
    "    logger.info(f\"Best model is saved at {model_dir}\")\n",
    "\n",
    "if __name__ == \"__main__\":\n",
    "    production_model(CONFIG_FILE_PATH)\n",
    "\n",
    "\n"
   ]
  },
  {
   "cell_type": "code",
   "execution_count": null,
   "metadata": {},
   "outputs": [],
   "source": []
  }
 ],
 "metadata": {
  "kernelspec": {
   "display_name": "Python 3",
   "language": "python",
   "name": "python3"
  },
  "language_info": {
   "codemirror_mode": {
    "name": "ipython",
    "version": 3
   },
   "file_extension": ".py",
   "mimetype": "text/x-python",
   "name": "python",
   "nbconvert_exporter": "python",
   "pygments_lexer": "ipython3",
   "version": "3.12.2"
  }
 },
 "nbformat": 4,
 "nbformat_minor": 2
}
