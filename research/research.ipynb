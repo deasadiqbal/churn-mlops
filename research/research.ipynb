{
 "cells": [
  {
   "cell_type": "markdown",
   "metadata": {},
   "source": [
    "## Data Ingestion"
   ]
  },
  {
   "cell_type": "code",
   "execution_count": 1,
   "metadata": {},
   "outputs": [],
   "source": [
    "import os\n",
    "os.chdir(r'E:\\MLOps\\Churn MLOps\\churn-mlops')"
   ]
  },
  {
   "cell_type": "code",
   "execution_count": 2,
   "metadata": {},
   "outputs": [
    {
     "data": {
      "text/plain": [
       "'E:\\\\MLOps\\\\Churn MLOps\\\\churn-mlops'"
      ]
     },
     "execution_count": 2,
     "metadata": {},
     "output_type": "execute_result"
    }
   ],
   "source": [
    "%pwd"
   ]
  },
  {
   "cell_type": "code",
   "execution_count": 16,
   "metadata": {},
   "outputs": [],
   "source": [
    "import pandas as pd\n",
    "import numpy as np\n",
    "import argparse\n",
    "from churn_mlops.utils.common import read_yaml\n",
    "from churn_mlops.constants import *\n",
    "\n",
    "def load_data(data_path : Path, model_var):\n",
    "    df = pd.read_csv(data_path)\n",
    "    df = df[model_var]\n",
    "    return df\n",
    "\n",
    "def load_raw_data(config_path):\n",
    "    config = read_yaml(config_path)\n",
    "    extrenal_data_path = config.data_config.external_data_path\n",
    "    raw_data_path = config.data_config.raw_data_path\n",
    "    model_var = config.data_config.model_var\n",
    "\n",
    "    df = load_data(extrenal_data_path, model_var)\n",
    "    df.to_csv(raw_data_path, index=False)\n",
    "\n",
    "if __name__ == \"__main__\":\n",
    "    load_raw_data(CONFIG_FILE_PATH)"
   ]
  },
  {
   "cell_type": "markdown",
   "metadata": {},
   "source": [
    "## Data Transformation"
   ]
  },
  {
   "cell_type": "code",
   "execution_count": 6,
   "metadata": {},
   "outputs": [
    {
     "name": "stdout",
     "output_type": "stream",
     "text": [
      "[2024-03-26 21:57:14,534: INFO: 3170729842: Data split is done and saved at data\\transformed_data\\churn_train_data.csv and data\\transformed_data\\churn_test_data.csv]\n"
     ]
    }
   ],
   "source": [
    "import pandas as pd\n",
    "import numpy as np\n",
    "from churn_mlops import logger\n",
    "from churn_mlops.constants import *\n",
    "from churn_mlops.utils.common import read_yaml\n",
    "from sklearn.model_selection import train_test_split\n",
    "\n",
    "#function to split data\n",
    "def split_data(df, train_data_path, test_data_path, split_ratio, random_state):\n",
    "    train, test = train_test_split(df, test_size=split_ratio, random_state=random_state)\n",
    "    train.to_csv(train_data_path, sep=\",\", index=False, encoding=\"utf-8\")\n",
    "    test.to_csv(test_data_path, sep=\",\", index=False, encoding=\"utf-8\")\n",
    "\n",
    "#function to save the split data\n",
    "def split_and_save(config_path):\n",
    "    config = read_yaml(config_path)\n",
    "\n",
    "    raw_data = config.data_config.raw_data_path\n",
    "    train_data_path = config.transformed_data_config.churn_train_data_path\n",
    "    test_data_path = config.transformed_data_config.churn_test_data_path\n",
    "\n",
    "    split_ratio = config.data_config.split_ratio\n",
    "    rnadom_state = config.data_config.random_state\n",
    "\n",
    "    df = pd.read_csv(raw_data)\n",
    "    split_data(df, train_data_path, test_data_path, split_ratio, rnadom_state)\n",
    "\n",
    "    logger.info(f\"Data split is done and saved at {train_data_path} and {test_data_path}\")\n",
    "\n",
    "if __name__ == \"__main__\":\n",
    "    split_and_save(CONFIG_FILE_PATH)"
   ]
  },
  {
   "cell_type": "code",
   "execution_count": null,
   "metadata": {},
   "outputs": [],
   "source": []
  }
 ],
 "metadata": {
  "kernelspec": {
   "display_name": "Python 3",
   "language": "python",
   "name": "python3"
  },
  "language_info": {
   "codemirror_mode": {
    "name": "ipython",
    "version": 3
   },
   "file_extension": ".py",
   "mimetype": "text/x-python",
   "name": "python",
   "nbconvert_exporter": "python",
   "pygments_lexer": "ipython3",
   "version": "3.12.2"
  }
 },
 "nbformat": 4,
 "nbformat_minor": 2
}
